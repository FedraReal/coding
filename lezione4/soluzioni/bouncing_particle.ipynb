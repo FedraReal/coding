{
 "cells": [
  {
   "cell_type": "markdown",
   "metadata": {},
   "source": [
    "## Particella rimbalzante\n",
    "\n",
    "In questo esercizio simuleremo il movimento di una particella (un cerchio) all'interno di un canvas rettangolare.  \n",
    "La particella si muove con una velocità iniziale specificata e \"rimbalza\" quando raggiunge i bordi del canvas, invertendo la sua direzione.\n",
    "\n",
    "### Obiettivi:\n",
    "- Creare un canvas e configurare le dimensioni della scena.\n",
    "- Inizializzare la posizione e la velocità della particella.\n",
    "- Disegnare la scena ad ogni frame, includendo lo sfondo e la particella.\n",
    "- Aggiornare la posizione della particella, gestendo i rimbalzi sui bordi.\n",
    "- Utilizzare un'animazione fluida con un ciclo continuo di aggiornamento.  \n"
   ]
  },
  {
   "cell_type": "code",
   "execution_count": 1,
   "metadata": {},
   "outputs": [],
   "source": [
    "import sys\n",
    "\n",
    "sys.path.append('../../risorse')"
   ]
  },
  {
   "cell_type": "code",
   "execution_count": 4,
   "metadata": {},
   "outputs": [
    {
     "data": {
      "application/vnd.jupyter.widget-view+json": {
       "model_id": "1e77d0b48f404ec8bab03b4c04242771",
       "version_major": 2,
       "version_minor": 0
      },
      "text/plain": [
       "VBox(children=(HTML(value='<style>\\n            canvas {\\n                display: block;\\n                mar…"
      ]
     },
     "metadata": {},
     "output_type": "display_data"
    }
   ],
   "source": [
    "import time\n",
    "from ipycanvas import Canvas, hold_canvas\n",
    "from animation import Animation # pylint: disable\n",
    "\n",
    "# Configurazione del canvas\n",
    "WIDTH, HEIGHT = 400, 400  # Dimensioni del canvas\n",
    "canvas = Canvas(width=WIDTH, height=HEIGHT)  # Creazione del canvas\n",
    "\n",
    "# Colori\n",
    "BACKGROUND_COLOR = \"#496780\"\n",
    "PARTICLE_COLOR = \"#9e823f\"\n",
    "\n",
    "# Parametri iniziali della particella\n",
    "x, y = WIDTH // 2, HEIGHT // 2  # Posizione iniziale della particella\n",
    "vx, vy = -1, 2  # Velocità iniziale lungo gli assi x e y\n",
    "radius = 10  # Raggio della particella\n",
    "\n",
    "# Funzione per disegnare la scena\n",
    "def draw():\n",
    "    global x, y\n",
    "\n",
    "    with hold_canvas(canvas):\n",
    "        # Cancella il canvas\n",
    "        canvas.clear()\n",
    "\n",
    "        # Disegna lo sfondo\n",
    "        canvas.fill_style = BACKGROUND_COLOR\n",
    "        canvas.fill_rect(0, 0, WIDTH, HEIGHT)\n",
    "\n",
    "        # Disegna la particella\n",
    "        canvas.fill_style = PARTICLE_COLOR\n",
    "        canvas.fill_circle(x, y, radius)\n",
    "\n",
    "# Funzione per aggiornare lo stato della particella\n",
    "def evolve():\n",
    "    global x, y, vx, vy\n",
    "\n",
    "    # Aggiorna la posizione\n",
    "    x += vx\n",
    "    y += vy\n",
    "\n",
    "    # Gestisci i rimbalzi sui bordi del canvas\n",
    "    if x - radius < 0 or x + radius > WIDTH:  # Rimbalzo sui bordi laterali\n",
    "        vx = -vx\n",
    "    if y - radius < 0 or y + radius > HEIGHT:  # Rimbalzo sui bordi superiore e inferiore\n",
    "        vy = -vy\n",
    "\n",
    "# Funzione principale di animazione\n",
    "def update():\n",
    "    draw()\n",
    "    evolve()\n",
    "    time.sleep(1 / 60)  # Introduce un breve ritardo per il frame rate\n",
    "\n",
    "# Configurazione e avvio dell'animazione\n",
    "anim = Animation(canvas, update)  # Crea un'istanza di animazione\n",
    "anim.start()  # Avvia l'animazione\n",
    "anim.display()  # Mostra il canvas e i controlli dell'animazione\n"
   ]
  },
  {
   "cell_type": "markdown",
   "metadata": {},
   "source": [
    "## Movimento con Gravità e Perdita di Energia\n",
    "\n",
    "In questo esercizio, estendiamo il movimento della particella aggiungendo l'effetto della **gravità**:  \n",
    "- La particella subisce un'accelerazione costante verso il basso, simulando l'effetto della gravità.  \n",
    "- Quando la particella rimbalza sul bordo inferiore, possiamo opzionalmente ridurre la velocità verticale per simulare una perdita di energia, utilizzando un coefficiente di rimbalzo \\( c < 1 \\).  \n",
    "\n",
    "### Obiettivi:\n",
    "1. Implementare l'accelerazione costante verso il basso.  \n",
    "2. Gestire il rimbalzo con o senza perdita di energia.  \n",
    "3. Permettere di attivare o disattivare l'effetto della perdita di energia in modo flessibile.\n"
   ]
  },
  {
   "cell_type": "code",
   "execution_count": 3,
   "metadata": {},
   "outputs": [
    {
     "data": {
      "application/vnd.jupyter.widget-view+json": {
       "model_id": "d1d79047583448b0926878763d9d2f08",
       "version_major": 2,
       "version_minor": 0
      },
      "text/plain": [
       "VBox(children=(HTML(value='<style>\\n            canvas {\\n                display: block;\\n                mar…"
      ]
     },
     "metadata": {},
     "output_type": "display_data"
    }
   ],
   "source": [
    "x, y = WIDTH // 2, HEIGHT // 2  # Posizione iniziale della particella\n",
    "vx, vy = 1, -2  # Velocità iniziale lungo gli assi x e y\n",
    "radius = 10  # Raggio della particella\n",
    "\n",
    "# Definizione dei parametri di gravità e perdita di energia\n",
    "gravity = 0.2  # Accelerazione costante verso il basso\n",
    "energy_loss_coefficient = 0.9  # Coefficiente di rimbalzo (1 = nessuna perdita di energia)\n",
    "\n",
    "# Aggiorna la posizione della particella considerando la gravità\n",
    "def evolve():\n",
    "    global x, y, vx, vy\n",
    "\n",
    "    # Aggiorna la velocità verticale con la gravità\n",
    "    vy += gravity\n",
    "\n",
    "    # Aggiorna la posizione\n",
    "    x += vx\n",
    "    y += vy\n",
    "\n",
    "    # Gestione dei rimbalzi\n",
    "    if x - radius < 0 or x + radius > WIDTH:\n",
    "        vx = -vx  # Rimbalzo sui bordi laterali\n",
    "    if y - radius < 0:\n",
    "        vy = -vy  # Rimbalzo sul bordo superiore\n",
    "    if y + radius > HEIGHT:\n",
    "        y = HEIGHT - radius  # Corregge la posizione per evitare che la particella esca\n",
    "        vy = -vy * energy_loss_coefficient  # Riduce la velocità verticale\n",
    "\n",
    "\n",
    "anim = Animation(canvas, update)  # Crea un'istanza di animazione\n",
    "anim.start()  # Avvia l'animazione\n",
    "anim.display()  # Mostra il canvas e i controlli dell'animazione"
   ]
  }
 ],
 "metadata": {
  "kernelspec": {
   "display_name": "Python 3",
   "language": "python",
   "name": "python3"
  },
  "language_info": {
   "codemirror_mode": {
    "name": "ipython",
    "version": 3
   },
   "file_extension": ".py",
   "mimetype": "text/x-python",
   "name": "python",
   "nbconvert_exporter": "python",
   "pygments_lexer": "ipython3",
   "version": "3.12.1"
  }
 },
 "nbformat": 4,
 "nbformat_minor": 2
}
