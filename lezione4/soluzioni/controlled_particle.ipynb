{
 "cells": [
  {
   "cell_type": "markdown",
   "metadata": {},
   "source": [
    "## Particella controllata\n",
    "\n",
    "In questo esercizio, controlleremo una particella all'interno di un canvas utilizzando le **frecce della tastiera** oppure il **mouse** per spostarla.  \n",
    "\n",
    "### Obiettivi:  \n",
    "- **Movimento con tastiera**:  \n",
    "  - Utilizzare le frecce direzionali per spostare la particella a destra, sinistra, in alto o in basso.  \n",
    "- **Movimento con mouse (opzionale)**:  \n",
    "  - La particella segue la posizione del puntatore del mouse.  \n",
    "\n",
    "### Concetti chiave:  \n",
    "- Rilevamento e gestione degli eventi da tastiera e mouse.  \n",
    "- Aggiornamento delle coordinate della particella in base agli input dell’utente."
   ]
  },
  {
   "cell_type": "code",
   "execution_count": 1,
   "metadata": {},
   "outputs": [],
   "source": [
    "import sys\n",
    "\n",
    "sys.path.append('../../risorse')"
   ]
  },
  {
   "cell_type": "code",
   "execution_count": 2,
   "metadata": {},
   "outputs": [
    {
     "data": {
      "application/vnd.jupyter.widget-view+json": {
       "model_id": "a6c261f2627b4fb9a282488efdcc140f",
       "version_major": 2,
       "version_minor": 0
      },
      "text/plain": [
       "VBox(children=(HTML(value='<style>\\n            canvas {\\n                display: block;\\n                mar…"
      ]
     },
     "metadata": {},
     "output_type": "display_data"
    }
   ],
   "source": [
    "import time\n",
    "from ipycanvas import Canvas, hold_canvas\n",
    "from animation import Animation\n",
    "\n",
    "# Configurazione del canvas\n",
    "WIDTH, HEIGHT = 400, 400\n",
    "canvas = Canvas(width=WIDTH, height=HEIGHT)\n",
    "\n",
    "# Colori\n",
    "BACKGROUND_COLOR = \"#496780\"\n",
    "PARTICLE_COLOR = \"#9e823f\"\n",
    "\n",
    "# Inizializziamo i parametri della particella\n",
    "x, y = WIDTH // 2, HEIGHT // 2  # Posizione iniziale\n",
    "radius = 10  # Raggio della particella\n",
    "speed = 5  # Velocità di spostamento\n",
    "\n",
    "# Disegna la particella\n",
    "def draw():\n",
    "    with hold_canvas():\n",
    "        # Pulisci il canvas\n",
    "        canvas.clear()\n",
    "        \n",
    "        # Colora lo sfondo\n",
    "        canvas.fill_style = BACKGROUND_COLOR\n",
    "        canvas.fill_rect(0, 0, WIDTH, HEIGHT)\n",
    "        \n",
    "        # Disegna la particella\n",
    "        canvas.fill_style = PARTICLE_COLOR\n",
    "        canvas.fill_circle(x, y, radius)\n",
    "\n",
    "# Aggiorna la posizione in base agli eventi della tastiera\n",
    "def on_key(key, *args):\n",
    "    global x, y\n",
    "\n",
    "    if key == \"ArrowUp\":\n",
    "        y -= speed\n",
    "    elif key == \"ArrowDown\":\n",
    "        y += speed\n",
    "    elif key == \"ArrowLeft\":\n",
    "        x -= speed\n",
    "    elif key == \"ArrowRight\":\n",
    "        x += speed\n",
    "\n",
    "# Collega gli eventi al canvas\n",
    "canvas.on_key_down(on_key)\n",
    "\n",
    "# Funzione di animazione\n",
    "def update():\n",
    "    draw()\n",
    "    time.sleep(1 / 60)\n",
    "\n",
    "# Avvia l'animazione\n",
    "anim = Animation(canvas, update)\n",
    "anim.start()\n",
    "anim.display()\n"
   ]
  }
 ],
 "metadata": {
  "kernelspec": {
   "display_name": "Python 3",
   "language": "python",
   "name": "python3"
  },
  "language_info": {
   "codemirror_mode": {
    "name": "ipython",
    "version": 3
   },
   "file_extension": ".py",
   "mimetype": "text/x-python",
   "name": "python",
   "nbconvert_exporter": "python",
   "pygments_lexer": "ipython3",
   "version": "3.12.1"
  }
 },
 "nbformat": 4,
 "nbformat_minor": 2
}
