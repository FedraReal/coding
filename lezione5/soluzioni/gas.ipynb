{
 "cells": [
  {
   "cell_type": "markdown",
   "metadata": {},
   "source": [
    "# Simulazione di un Gas di Particelle\n",
    "\n",
    "Questa simulazione rappresenta un sistema di particelle che si muovono liberamente e rimbalzano sui bordi di un contenitore rettangolare. Ogni particella è generata casualmente con una posizione iniziale, una velocità determinata dalla temperatura $T$ e una massa. Il raggio delle particelle è proporzionale a $\\sqrt{m}$, per rappresentare visivamente la loro dimensione relativa.\n",
    "\n",
    "Le velocità iniziali delle particelle sono generate casualmente con un'intensità proporzionale a $\\sqrt{T}$, dove $T$ rappresenta la temperatura del sistema, influenzando così l'energia cinetica media del gas. Durante la simulazione, le particelle rimbalzano elasticamente sui bordi, invertendo la componente della velocità corrispondente.\n",
    "\n",
    "Questa simulazione permette di osservare il comportamento dinamico delle particelle in un sistema chiuso, con caratteristiche simili a quelle di un gas ideale.\n"
   ]
  },
  {
   "cell_type": "code",
   "execution_count": 1,
   "metadata": {},
   "outputs": [],
   "source": [
    "%load_ext autoreload\n",
    "%autoreload 2"
   ]
  },
  {
   "cell_type": "code",
   "execution_count": 1,
   "metadata": {},
   "outputs": [],
   "source": [
    "import sys\n",
    "\n",
    "sys.path.append('../../risorse')"
   ]
  },
  {
   "cell_type": "code",
   "execution_count": 2,
   "metadata": {},
   "outputs": [],
   "source": [
    "from particles import Particle, NParticlesSystem\n",
    "\n",
    "import random\n",
    "\n",
    "class Gas(NParticlesSystem):\n",
    "    def __init__(self, N, T, width, height, radius=5, mass=1, background_color=\"#f0f0f0\"):\n",
    "        particles = []\n",
    "        for _ in range(N):\n",
    "            x = random.uniform(radius, width - radius)\n",
    "            y = random.uniform(radius, height - radius)\n",
    "            vx = random.uniform(-T**0.5, T**0.5)\n",
    "            vy = random.uniform(-T**0.5, T**0.5)\n",
    "            color = f\"#{random.randint(0, 0xFFFFFF):06x}\"\n",
    "            particles.append(Particle(x, y, vx, vy, radius, mass, color))\n",
    "        \n",
    "        super().__init__(particles, background_color)\n",
    "        self.width = width\n",
    "        self.height = height\n",
    "\n",
    "    def evolve(self, dt):\n",
    "        for particle in self.particles:\n",
    "            particle.move(dt)\n",
    "\n",
    "            # Rimbalzo sui bordi\n",
    "            if particle.x - particle.radius < 0 or particle.x + particle.radius > self.width:\n",
    "                particle.vx = -particle.vx\n",
    "            if particle.y - particle.radius < 0 or particle.y + particle.radius > self.height:\n",
    "                particle.vy = -particle.vy\n"
   ]
  },
  {
   "cell_type": "code",
   "execution_count": 3,
   "metadata": {},
   "outputs": [
    {
     "data": {
      "application/vnd.jupyter.widget-view+json": {
       "model_id": "ffc291ce70a64eea8c0e59aebabb60f6",
       "version_major": 2,
       "version_minor": 0
      },
      "text/plain": [
       "VBox(children=(HTML(value='<style>\\n            canvas {\\n                display: block;\\n                mar…"
      ]
     },
     "metadata": {},
     "output_type": "display_data"
    }
   ],
   "source": [
    "from animation import Animation\n",
    "from ipycanvas import Canvas\n",
    "\n",
    "canvas = Canvas(width=400, height=400)\n",
    "\n",
    "# Colori\n",
    "BACKGROUND_COLOR = \"#496780\"\n",
    "\n",
    "gas = Gas(10, 10, canvas.width, canvas.height, background_color=BACKGROUND_COLOR)\n",
    "\n",
    "def update():\n",
    "    gas.update(1, canvas)\n",
    "\n",
    "anim = Animation(canvas, update)\n",
    "anim.start()\n",
    "anim.display()"
   ]
  }
 ],
 "metadata": {
  "kernelspec": {
   "display_name": "Python 3",
   "language": "python",
   "name": "python3"
  },
  "language_info": {
   "codemirror_mode": {
    "name": "ipython",
    "version": 3
   },
   "file_extension": ".py",
   "mimetype": "text/x-python",
   "name": "python",
   "nbconvert_exporter": "python",
   "pygments_lexer": "ipython3",
   "version": "3.12.1"
  }
 },
 "nbformat": 4,
 "nbformat_minor": 2
}
