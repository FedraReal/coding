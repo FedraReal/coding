{
 "cells": [
  {
   "cell_type": "markdown",
   "metadata": {},
   "source": [
    "# Simulazione del Problema degli N-Corpi\n",
    "\n",
    "Questa simulazione rappresenta un sistema di particelle che interagiscono gravitazionalmente secondo la legge di Newton. Ogni particella ha una massa, una posizione e una velocità iniziali generate casualmente. Il raggio delle particelle è proporzionale a $\\sqrt{\\text{massa}}$, per rappresentare visivamente la loro dimensione relativa.\n",
    "\n",
    "Le interazioni gravitazionali sono calcolate utilizzando la legge di Newton:\n",
    "\n",
    "$$\n",
    "F = G \\frac{m_1 m_2}{r^2}\n",
    "$$\n",
    "\n",
    "Dove:\n",
    "- $F$ è la forza gravitazionale tra due particelle.\n",
    "- $G$ è la costante gravitazionale.\n",
    "- $m_1$ e $m_2$ sono le masse delle particelle.\n",
    "- $r$ è la distanza tra i loro centri.\n",
    "\n",
    "Ogni particella subisce l'influenza gravitazionale di tutte le altre, e la forza risultante modifica la sua velocità e posizione nel tempo. La velocità iniziale è influenzata dalla temperatura $T$, che determina l'ampiezza delle velocità casuali.\n",
    "\n",
    "Il sistema evolve iterativamente, mostrando le traiettorie delle particelle e simulando dinamiche come quelle di un sistema planetario o di cluster di particelle interagenti.\n"
   ]
  },
  {
   "cell_type": "code",
   "execution_count": 1,
   "metadata": {},
   "outputs": [],
   "source": [
    "%load_ext autoreload\n",
    "%autoreload 2"
   ]
  },
  {
   "cell_type": "code",
   "execution_count": 2,
   "metadata": {},
   "outputs": [],
   "source": [
    "import sys\n",
    "\n",
    "sys.path.append('../../risorse')"
   ]
  },
  {
   "cell_type": "code",
   "execution_count": 61,
   "metadata": {},
   "outputs": [],
   "source": [
    "import random\n",
    "from particles import Particle, NParticlesSystem\n",
    "\n",
    "class NBody(NParticlesSystem):\n",
    "    def __init__(self, n, T, width, height, G=1, mass_range=(1, 5), background_color=\"#000000\"):\n",
    "        particles = []\n",
    "\n",
    "        x = width / 2\n",
    "        y = height / 2\n",
    "        vx = 0\n",
    "        vy = 0\n",
    "        mass = 1000\n",
    "        radius = mass**0.5  # Calcola il raggio in base alla massa\n",
    "        color = \"#FFFFFF\"\n",
    "        central_attractor = Particle(x, y, vx, vy, radius, mass, color)\n",
    "        particles.append(central_attractor)\n",
    "        \n",
    "        for _ in range(n):\n",
    "            x = random.uniform(0, width)\n",
    "            y = random.uniform(0, height)\n",
    "            vx = random.uniform(-T**0.5, T**0.5)\n",
    "            vy = random.uniform(-T**0.5, T**0.5)\n",
    "            mass = random.uniform(*mass_range)\n",
    "            radius = mass**0.5  # Calcola il raggio in base alla massa\n",
    "            color = f\"#{random.randint(0, 0xFFFFFF):06x}\"  # Colore casuale\n",
    "            particle = Particle(x, y, vx, vy, radius, mass, color)\n",
    "            particles.append(particle)\n",
    "\n",
    "        super().__init__(particles, background_color)\n",
    "        self.G = G\n",
    "        self.width = width\n",
    "        self.height = height\n",
    "\n",
    "\n",
    "    def evolve(self, dt):\n",
    "        for i, p1 in enumerate(self.particles):\n",
    "            fx, fy = 0, 0\n",
    "            for j, p2 in enumerate(self.particles):\n",
    "                if i != j:\n",
    "                    # Compute the vector between particles\n",
    "                    dx = p2.x - p1.x\n",
    "                    dy = p2.y - p1.y\n",
    "                    dist_sq = dx**2 + dy**2\n",
    "\n",
    "                    # Avoid division by zero (overlapping particles)\n",
    "                    if dist_sq == 0:\n",
    "                        continue\n",
    "\n",
    "                    # Compute gravitational force magnitude\n",
    "                    force = min(self.G * p1.mass * p2.mass / dist_sq, 10)\n",
    "                    distance = dist_sq**0.5\n",
    "\n",
    "                    # Compute force components\n",
    "                    fx += force * (dx / distance)\n",
    "                    fy += force * (dy / distance)\n",
    "\n",
    "            # Update velocity based on force\n",
    "            p1.vx += fx / p1.mass * dt\n",
    "            p1.vy += fy / p1.mass * dt\n",
    "\n",
    "        # Update positions after all forces have been calculated\n",
    "        for particle in self.particles:\n",
    "            particle.move(dt)\n"
   ]
  },
  {
   "cell_type": "code",
   "execution_count": 63,
   "metadata": {},
   "outputs": [
    {
     "data": {
      "application/vnd.jupyter.widget-view+json": {
       "model_id": "b12ec6ff10524141b4e665a1f3e5db05",
       "version_major": 2,
       "version_minor": 0
      },
      "text/plain": [
       "VBox(children=(HTML(value='<style>\\n            canvas {\\n                display: block;\\n                mar…"
      ]
     },
     "metadata": {},
     "output_type": "display_data"
    }
   ],
   "source": [
    "from animation import Animation\n",
    "from ipycanvas import Canvas\n",
    "\n",
    "canvas = Canvas(width=400, height=400)\n",
    "\n",
    "# Colori\n",
    "BACKGROUND_COLOR = \"#496780\"\n",
    "\n",
    "nbody = NBody(25, 0, canvas.width, canvas.height, G=1, mass_range=(10, 100), background_color=BACKGROUND_COLOR)\n",
    "\n",
    "def update():\n",
    "    nbody.update(1, canvas)\n",
    "\n",
    "anim = Animation(canvas, update)\n",
    "anim.start()\n",
    "anim.display()"
   ]
  }
 ],
 "metadata": {
  "kernelspec": {
   "display_name": "Python 3",
   "language": "python",
   "name": "python3"
  },
  "language_info": {
   "codemirror_mode": {
    "name": "ipython",
    "version": 3
   },
   "file_extension": ".py",
   "mimetype": "text/x-python",
   "name": "python",
   "nbconvert_exporter": "python",
   "pygments_lexer": "ipython3",
   "version": "3.12.1"
  }
 },
 "nbformat": 4,
 "nbformat_minor": 2
}
